{
 "cells": [
  {
   "cell_type": "code",
   "execution_count": 1,
   "metadata": {},
   "outputs": [],
   "source": [
    "import torch\n",
    "import pandas as pd\n",
    "import numpy as np\n",
    "from torch.utils.data import Dataset, DataLoader\n",
    "from torchvision import transforms, utils\n",
    "from torch.utils.data.sampler import SubsetRandomSampler\n",
    "\n",
    "import matplotlib.pyplot as plt\n",
    "\n",
    "import torch.nn as nn\n",
    "import torch.nn.functional as F\n",
    "import torch.optim as optim\n",
    "import torchvision\n",
    "\n",
    "device = torch.device('cuda:0')"
   ]
  },
  {
   "cell_type": "code",
   "execution_count": 2,
   "metadata": {},
   "outputs": [],
   "source": [
    "class PUBG_imglike_dataset(Dataset):\n",
    "    def __init__(self, csv_file, transform=None):\n",
    "        self.frame = pd.read_csv(csv_file)\n",
    "        self.transform = transform\n",
    "\n",
    "    def __len__(self):\n",
    "        return len(self.frame)\n",
    "\n",
    "    def __getitem__(self, idx):\n",
    "        def transfrom2imglike(input):\n",
    "            output = np.zeros((3,32,32))\n",
    "            temp = np.array(input)\n",
    "            for x in range(23):\n",
    "                for y in range(23):\n",
    "                    if(x == y):\n",
    "                        output[0][x][y] = temp[x]\n",
    "                        output[1][x][y] = temp[x]\n",
    "                        output[2][x][y] = temp[x]\n",
    "            return output\n",
    "        # get one line in csv\n",
    "        player_id = self.frame.iloc [idx, 0]\n",
    "        player_stats = self.frame.iloc [idx, [x for x in range(3, 27) if x != 15]].values.astype(np.int_)\n",
    "        player_stats = torch.tensor(transfrom2imglike(player_stats))\n",
    "        win_place_perc = torch.tensor(self.frame.iloc [idx, 28])\n",
    "        if self.transform:\n",
    "            player_stats = self.transform(player_stats)\n",
    "        sample = {\n",
    "            \"player_id\": player_id, \n",
    "            \"player_stats\": player_stats,\n",
    "            \"win_place_perc\": win_place_perc\n",
    "        }\n",
    "        return sample\n",
    "    \n",
    "\n",
    "        "
   ]
  },
  {
   "cell_type": "code",
   "execution_count": 3,
   "metadata": {},
   "outputs": [],
   "source": [
    "def get_dataset(csv_file, train_dataset_size_ratio, batch_size):\n",
    "    dataset = PUBG_imglike_dataset(csv_file)\n",
    "    #  `torch.utils.data.random_split` meets server problem and lead to CRASH\n",
    "    # see also:\n",
    "    # - a denied fix PR for this problem: https://github.com/pytorch/pytorch/pull/9237 \n",
    "    #train_dataset, test_dataset = torch.utils.data.random_split(dataset, [train_size, test_size])\n",
    "    dataset_size = len(dataset)\n",
    "    indices = list(range(dataset_size))\n",
    "    split = int(np.floor((1-train_dataset_size_ratio) * dataset_size))\n",
    "    train_indices, val_indices = indices[split:], indices[:split]\n",
    "\n",
    "    train_sampler = SubsetRandomSampler(train_indices)\n",
    "    valid_sampler = SubsetRandomSampler(val_indices)\n",
    "\n",
    "    train_loader = torch.utils.data.DataLoader(dataset, batch_size=batch_size, sampler=train_sampler)\n",
    "    test_loader = torch.utils.data.DataLoader(dataset, batch_size=batch_size, sampler=valid_sampler)\n",
    "    print(\"load dataset: train dataset: {}, test dataset: {}.\".format(len(train_loader)*batch_size, len(test_loader)*batch_size))\n",
    "    return (train_loader, test_loader)"
   ]
  },
  {
   "cell_type": "code",
   "execution_count": 4,
   "metadata": {},
   "outputs": [
    {
     "name": "stdout",
     "output_type": "stream",
     "text": [
      "load dataset: train dataset: 1152, test dataset: 128.\n"
     ]
    }
   ],
   "source": [
    "# load dataset\n",
    "csv_file = 'train_small.csv'\n",
    "train_dataset_size_ratio = 0.9\n",
    "batch_size = 128\n",
    "train_loader, test_loader = get_dataset(csv_file, train_dataset_size_ratio, batch_size)"
   ]
  },
  {
   "cell_type": "code",
   "execution_count": 5,
   "metadata": {},
   "outputs": [],
   "source": [
    "class MyCNN(nn.Module):\n",
    "    \n",
    "    def __init__(self, image_size, num_classes):\n",
    "        super(MyCNN, self).__init__()\n",
    "        # conv1: Conv2d -> BN -> ReLU -> MaxPool\n",
    "        self.conv1 = nn.Sequential(\n",
    "            nn.Conv2d(in_channels=3, out_channels=16, kernel_size=3, stride=1, padding=1),\n",
    "            nn.BatchNorm2d(16),\n",
    "            nn.ReLU(), \n",
    "            nn.MaxPool2d(kernel_size=2, stride=2),\n",
    "        )\n",
    "        # conv2: Conv2d -> BN -> ReLU -> MaxPool\n",
    "        self.conv2 = nn.Sequential(\n",
    "            nn.Conv2d(in_channels=16, out_channels=32, kernel_size=3, stride=1, padding=1),\n",
    "            nn.BatchNorm2d(32),\n",
    "            nn.ReLU(),\n",
    "            nn.MaxPool2d(kernel_size=2, stride=2),\n",
    "        )\n",
    "        # fully connected layer\n",
    "        self.fc = nn.Linear(32 * (image_size // 4) * (image_size // 4), num_classes)\n",
    "        \n",
    "\n",
    "    def forward(self, x):\n",
    "        x = self.conv1(x)\n",
    "        x = self.conv2(x)\n",
    "        # view(x.size(0), -1): change tensor size from (N ,H , W) to (N, H*W)\n",
    "        x = x.view(x.size(0), -1)\n",
    "        output = self.fc(x)\n",
    "        return output"
   ]
  },
  {
   "cell_type": "code",
   "execution_count": 6,
   "metadata": {},
   "outputs": [],
   "source": [
    "def show_curve(ys, title):\n",
    "    x = np.array(range(len(ys)))\n",
    "    y = np.array(ys)\n",
    "    plt.plot(x, y, c='b')\n",
    "    plt.axis()\n",
    "    plt.title('{} curve'.format(title))\n",
    "    plt.xlabel('epoch')\n",
    "    plt.ylabel('{}'.format(title))\n",
    "    plt.show()"
   ]
  },
  {
   "cell_type": "code",
   "execution_count": 7,
   "metadata": {},
   "outputs": [],
   "source": [
    "def train(model, train_loader, loss_func, optimizer, device):\n",
    "    total_loss = 0\n",
    "    # train the model using minibatch\n",
    "    for i, data in enumerate(train_loader):\n",
    "        stats, prec = data['player_stats'], data['win_place_perc']\n",
    "        stats, prec = stats.to(torch.float32).to(device), prec.to(device)\n",
    "\n",
    "        # forward\n",
    "        outputs = model(stats)\n",
    "        loss = loss_func(outputs, prec)\n",
    "\n",
    "        # backward and optimize\n",
    "        optimizer.zero_grad()\n",
    "        loss.backward()\n",
    "        optimizer.step()\n",
    "        \n",
    "        total_loss += loss.item()\n",
    "        \n",
    "        #if (i + 1) % 10 == 0:\n",
    "        #    print (\"Step [{}/{}] Train Loss: {:.4f}\".format(i+1, len(train_loader), loss.item()))\n",
    "    #print (\"Train Loss: {:.4f}\".format(loss.item()))\n",
    "    return total_loss / len(train_loader)\n",
    "\n",
    "def evaluate(model, val_loader, device):\n",
    "\n",
    "    model.eval()\n",
    "    with torch.no_grad():\n",
    "        loss = 0\n",
    "        total = 0\n",
    "        \n",
    "        for i, data in enumerate(val_loader):\n",
    "            stats, prec = data['player_stats'], data['win_place_perc']\n",
    "            stats, prec = stats.to(torch.float32).to(device), prec.to(device)\n",
    "\n",
    "            outputs = model(stats)\n",
    "\n",
    "            \n",
    "            loss += (torch.abs(torch.t(outputs) - prec)).sum()\n",
    "            total += prec.size(0)\n",
    "\n",
    "            \n",
    "        accuracy = loss / total\n",
    "        #print('Test Loss: {:.4f}'.format(accuracy))\n",
    "        return accuracy\n",
    "    \n",
    "def fit(model, num_epochs, optimizer, device):\n",
    "    loss_func = nn.MSELoss()\n",
    "    model.to(device)\n",
    "    if device == torch.device('cuda'):\n",
    "        model = torch.nn.DataParallel(model)\n",
    "        cudnn.benchmark = True\n",
    "    loss_func.to(device)\n",
    "    losses = []\n",
    "    accs = []\n",
    "    \n",
    "    for epoch in range(num_epochs):\n",
    "        \n",
    "\n",
    "        # train step\n",
    "        loss = train(model, train_loader, loss_func, optimizer, device)\n",
    "        losses.append(loss)\n",
    "        \n",
    "        # evaluate step\n",
    "        accuracy = evaluate(model, test_loader, device)\n",
    "        accs.append(accuracy)\n",
    "        \n",
    "        # print loss\n",
    "        if (epoch+1) % 10 == 0:\n",
    "            print(\"Epoch {}/{}\".format(epoch+1, num_epochs))\n",
    "            print(\"Train Loss: {:.4f}\".format(loss))\n",
    "            print('Test Loss: {:.4f}'.format(accuracy))\n",
    "\n",
    "    show_curve(losses, \"train loss\")\n",
    "    show_curve(accs, \"test loss\")"
   ]
  },
  {
   "cell_type": "code",
   "execution_count": 12,
   "metadata": {},
   "outputs": [
    {
     "name": "stdout",
     "output_type": "stream",
     "text": [
      "MyCNN(\n",
      "  (conv1): Sequential(\n",
      "    (0): Conv2d(3, 16, kernel_size=(3, 3), stride=(1, 1), padding=(1, 1))\n",
      "    (1): BatchNorm2d(16, eps=1e-05, momentum=0.1, affine=True, track_running_stats=True)\n",
      "    (2): ReLU()\n",
      "    (3): MaxPool2d(kernel_size=2, stride=2, padding=0, dilation=1, ceil_mode=False)\n",
      "  )\n",
      "  (conv2): Sequential(\n",
      "    (0): Conv2d(16, 32, kernel_size=(3, 3), stride=(1, 1), padding=(1, 1))\n",
      "    (1): BatchNorm2d(32, eps=1e-05, momentum=0.1, affine=True, track_running_stats=True)\n",
      "    (2): ReLU()\n",
      "    (3): MaxPool2d(kernel_size=2, stride=2, padding=0, dilation=1, ceil_mode=False)\n",
      "  )\n",
      "  (fc): Linear(in_features=2048, out_features=1, bias=True)\n",
      ")\n"
     ]
    }
   ],
   "source": [
    "# training setting\n",
    "# hyper parameters\n",
    "num_epochs = 100\n",
    "lr = 0.01\n",
    "image_size = 32\n",
    "num_classes = 1\n",
    "\n",
    "# declare and define an objet of MyCNN\n",
    "mycnn = MyCNN(image_size, num_classes)\n",
    "print(mycnn)\n",
    "# Device configuration, cpu, cuda:0/1/2/3 available\n",
    "device = torch.device('cuda:0')\n",
    "\n",
    "optimizer = torch.optim.Adam(mycnn.parameters(), lr=lr)\n",
    "\n"
   ]
  },
  {
   "cell_type": "code",
   "execution_count": 13,
   "metadata": {},
   "outputs": [
    {
     "name": "stdout",
     "output_type": "stream",
     "text": [
      "Epoch 10/100\n",
      "Train Loss: 0.0935\n",
      "Test Loss: 0.2885\n",
      "Epoch 20/100\n",
      "Train Loss: 0.0891\n",
      "Test Loss: 0.2799\n",
      "Epoch 30/100\n",
      "Train Loss: 0.0936\n",
      "Test Loss: 0.2773\n",
      "Epoch 40/100\n",
      "Train Loss: 0.0976\n",
      "Test Loss: 0.2735\n",
      "Epoch 50/100\n",
      "Train Loss: 0.0938\n",
      "Test Loss: 0.2802\n",
      "Epoch 60/100\n",
      "Train Loss: 0.0926\n",
      "Test Loss: 0.2720\n",
      "Epoch 70/100\n",
      "Train Loss: 0.0945\n",
      "Test Loss: 0.2770\n",
      "Epoch 80/100\n",
      "Train Loss: 0.0945\n",
      "Test Loss: 0.2765\n",
      "Epoch 90/100\n",
      "Train Loss: 0.0936\n",
      "Test Loss: 0.2753\n",
      "Epoch 100/100\n",
      "Train Loss: 0.0952\n",
      "Test Loss: 0.2762\n"
     ]
    },
    {
     "data": {
      "image/png": "[encoded data removed]",
      "text/plain": [
       "<Figure size 432x288 with 1 Axes>"
      ]
     },
     "metadata": {},
     "output_type": "display_data"
    },
    {
     "data": {
      "image/png": "[encoded data removed]",
      "text/plain": [
       "<Figure size 432x288 with 1 Axes>"
      ]
     },
     "metadata": {},
     "output_type": "display_data"
    }
   ],
   "source": [
    "fit(mycnn, num_epochs, optimizer, device)"
   ]
  }
 ],
 "metadata": {
  "kernelspec": {
   "display_name": "Python 3",
   "language": "python",
   "name": "python3"
  },
  "language_info": {
   "codemirror_mode": {
    "name": "ipython",
    "version": 3
   },
   "file_extension": ".py",
   "mimetype": "text/x-python",
   "name": "python",
   "nbconvert_exporter": "python",
   "pygments_lexer": "ipython3",
   "version": "3.6.5"
  }
 },
 "nbformat": 4,
 "nbformat_minor": 2
}
